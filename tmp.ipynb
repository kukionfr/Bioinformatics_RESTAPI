{
 "cells": [
  {
   "metadata": {
    "ExecuteTime": {
     "end_time": "2025-03-20T16:14:40.521656Z",
     "start_time": "2025-03-20T16:14:40.494539Z"
    }
   },
   "cell_type": "code",
   "source": [
    "fn='asd.jpg'\n",
    "fn.split('.')[0]"
   ],
   "id": "60b3917f52df7bf7",
   "outputs": [
    {
     "data": {
      "text/plain": [
       "['asd', 'jpg']"
      ]
     },
     "execution_count": 1,
     "metadata": {},
     "output_type": "execute_result"
    }
   ],
   "execution_count": 1
  },
  {
   "metadata": {
    "ExecuteTime": {
     "end_time": "2025-03-20T16:14:40.683646Z",
     "start_time": "2025-03-20T16:14:40.672727Z"
    }
   },
   "cell_type": "code",
   "source": "fn",
   "id": "b2e652f224513f6f",
   "outputs": [
    {
     "data": {
      "text/plain": [
       "'asd.jpg'"
      ]
     },
     "execution_count": 2,
     "metadata": {},
     "output_type": "execute_result"
    }
   ],
   "execution_count": 2
  },
  {
   "metadata": {},
   "cell_type": "code",
   "outputs": [],
   "execution_count": null,
   "source": [
    "a=[];\n",
    "a.append([1,2,3])\n",
    "a.append([1,2,3])\n",
    "import pandas as pd\n",
    "pd.DataFrame(nuclei_shapes)\n"
   ],
   "id": "3cf782dd5f827034"
  }
 ],
 "metadata": {
  "kernelspec": {
   "display_name": "Python 3",
   "language": "python",
   "name": "python3"
  },
  "language_info": {
   "codemirror_mode": {
    "name": "ipython",
    "version": 2
   },
   "file_extension": ".py",
   "mimetype": "text/x-python",
   "name": "python",
   "nbconvert_exporter": "python",
   "pygments_lexer": "ipython2",
   "version": "2.7.6"
  }
 },
 "nbformat": 4,
 "nbformat_minor": 5
}
